{
 "cells": [
  {
   "cell_type": "markdown",
   "metadata": {},
   "source": [
    "# Initializing and Reading in Data\n",
    "------"
   ]
  },
  {
   "cell_type": "markdown",
   "metadata": {},
   "source": [
    "## 1. Read in the iris dataset"
   ]
  },
  {
   "cell_type": "code",
   "execution_count": 1,
   "metadata": {
    "collapsed": false
   },
   "outputs": [
    {
     "name": "stdout",
     "output_type": "stream",
     "text": [
      "[['sepal_length', 'sepal_width', 'petal_length', 'petal_width', 'species'], ['5.1', '3.5', '1.4', '0.2', 'setosa'], ['4.9', '3', '1.4', '0.2', 'setosa'], ['4.7', '3.2', '1.3', '0.2', 'setosa'], ['4.6', '3.1', '1.5', '0.2', 'setosa']]\n"
     ]
    }
   ],
   "source": [
    "import csv # Remember to import csv before you start\n",
    "with open('../data/iris.csv','rU') as d:\n",
    "    data = []\n",
    "    reader = csv.reader(d)\n",
    "    for row in reader:\n",
    "        data.append(row)\n",
    "print(data[:5]) # Check to see if this looks right"
   ]
  },
  {
   "cell_type": "markdown",
   "metadata": {},
   "source": [
    "## 2. Cut out the header row to focus on your data"
   ]
  },
  {
   "cell_type": "code",
   "execution_count": 2,
   "metadata": {
    "collapsed": false
   },
   "outputs": [
    {
     "name": "stdout",
     "output_type": "stream",
     "text": [
      "[['sepal_length', 'sepal_width', 'petal_length', 'petal_width', 'species']]\n",
      "[['5.1', '3.5', '1.4', '0.2', 'setosa'], ['4.9', '3', '1.4', '0.2', 'setosa'], ['4.7', '3.2', '1.3', '0.2', 'setosa'], ['4.6', '3.1', '1.5', '0.2', 'setosa'], ['5', '3.6', '1.4', '0.2', 'setosa']]\n"
     ]
    }
   ],
   "source": [
    "header = data[:1] # Keep the header row in case you need to refer to it\n",
    "data = data[1:] # Replace the whole data set with the whole dataset minus header row\n",
    "# Remember to only do this once or you'll cut away your data one piece at a time\n",
    "print header # Check-check-check it out to make sure it's there\n",
    "print data[:5]"
   ]
  },
  {
   "cell_type": "markdown",
   "metadata": {},
   "source": [
    "## 3. Identify the total number of observations"
   ]
  },
  {
   "cell_type": "code",
   "execution_count": 3,
   "metadata": {
    "collapsed": false
   },
   "outputs": [
    {
     "name": "stdout",
     "output_type": "stream",
     "text": [
      "150\n"
     ]
    }
   ],
   "source": [
    "total_num_obs = len(data) # Since we cut out header, the # of lists\n",
    "print(total_num_obs)      # is the number of observations"
   ]
  },
  {
   "cell_type": "markdown",
   "metadata": {},
   "source": [
    "## 4. Species in row four is..."
   ]
  },
  {
   "cell_type": "code",
   "execution_count": 4,
   "metadata": {
    "collapsed": false
   },
   "outputs": [
    {
     "name": "stdout",
     "output_type": "stream",
     "text": [
      "[['sepal_length', 'sepal_width', 'petal_length', 'petal_width', 'species']]\n"
     ]
    }
   ],
   "source": [
    "print(header) # Which entry is \"species\" in again?"
   ]
  },
  {
   "cell_type": "markdown",
   "metadata": {},
   "source": [
    "Species is at `index = 4` for each list"
   ]
  },
  {
   "cell_type": "code",
   "execution_count": 5,
   "metadata": {
    "collapsed": false
   },
   "outputs": [
    {
     "name": "stdout",
     "output_type": "stream",
     "text": [
      "setosa\n"
     ]
    }
   ],
   "source": [
    "print(data[3][4]) # Look in the fourth row (index = 3)\n",
    "                  # and the species observation (index = 4)"
   ]
  },
  {
   "cell_type": "markdown",
   "metadata": {},
   "source": [
    "## 5. Average sepal length"
   ]
  },
  {
   "cell_type": "markdown",
   "metadata": {},
   "source": [
    "I see from Q4 that sepal length is in the `index = 0` element of each row. Nice."
   ]
  },
  {
   "cell_type": "code",
   "execution_count": 6,
   "metadata": {
    "collapsed": false
   },
   "outputs": [
    {
     "name": "stdout",
     "output_type": "stream",
     "text": [
      "[5.1, 4.9, 4.7, 4.6, 5.0]\n",
      "[['5.1', '3.5', '1.4', '0.2', 'setosa'], ['4.9', '3', '1.4', '0.2', 'setosa'], ['4.7', '3.2', '1.3', '0.2', 'setosa'], ['4.6', '3.1', '1.5', '0.2', 'setosa'], ['5', '3.6', '1.4', '0.2', 'setosa']]\n"
     ]
    }
   ],
   "source": [
    "sepal_length = [float(i[0]) for i in data] # Pull out the first index in each\n",
    "# make sure you float this to convert from strings\n",
    "print(sepal_length[:5]) # Make sure it's right\n",
    "print(data[:5])         # by checking each of the data observations"
   ]
  },
  {
   "cell_type": "code",
   "execution_count": 7,
   "metadata": {
    "collapsed": false
   },
   "outputs": [
    {
     "name": "stdout",
     "output_type": "stream",
     "text": [
      "5.84333333333\n"
     ]
    }
   ],
   "source": [
    "avg_sepal_length = sum(sepal_length)/(len(sepal_length))\n",
    "print(avg_sepal_length)"
   ]
  },
  {
   "cell_type": "markdown",
   "metadata": {},
   "source": [
    "## 6. Average sepal length of setosa flowers"
   ]
  },
  {
   "cell_type": "markdown",
   "metadata": {},
   "source": [
    "Here we're going to conduct a similar process as we did for all flowers, but limit to just those in species 'setosa'. I'll use the index to refer to both of those.\n",
    "\n",
    "To get this we want to pull from the 'sepal length' in `index = 0` for each entry, and from the 'species' column at `index =4`. I'll pull it as a string first, then convert to a float."
   ]
  },
  {
   "cell_type": "code",
   "execution_count": 8,
   "metadata": {
    "collapsed": false
   },
   "outputs": [
    {
     "name": "stdout",
     "output_type": "stream",
     "text": [
      "['5.1', '4.9', '4.7', '4.6', '5']\n",
      "[['5.1', '3.5', '1.4', '0.2', 'setosa'], ['4.9', '3', '1.4', '0.2', 'setosa'], ['4.7', '3.2', '1.3', '0.2', 'setosa'], ['4.6', '3.1', '1.5', '0.2', 'setosa'], ['5', '3.6', '1.4', '0.2', 'setosa']]\n"
     ]
    }
   ],
   "source": [
    "setosa_length_str = [i[0] for i in data if i[4]=='setosa'] # Does this count as a loop?\n",
    "print(setosa_length_str[:5])\n",
    "print(data[:5]) # I know setosas are listed first, so I printed the head."
   ]
  },
  {
   "cell_type": "code",
   "execution_count": 9,
   "metadata": {
    "collapsed": false
   },
   "outputs": [
    {
     "name": "stdout",
     "output_type": "stream",
     "text": [
      "Average setosa length: 5.006\n"
     ]
    }
   ],
   "source": [
    "setosa_length = [float(i) for i in setosa_length_str] # Convert to float\n",
    "avg_setosa_length = (sum(setosa_length))/(len(setosa_length))\n",
    "print('Average setosa length:'),\n",
    "print(avg_setosa_length)"
   ]
  },
  {
   "cell_type": "markdown",
   "metadata": {},
   "source": [
    "## Average sepal length for all flowers"
   ]
  },
  {
   "cell_type": "code",
   "execution_count": 19,
   "metadata": {
    "collapsed": false
   },
   "outputs": [
    {
     "name": "stdout",
     "output_type": "stream",
     "text": [
      "setosa: 5.006\n",
      "versicolor: 5.936\n"
     ]
    }
   ],
   "source": [
    "def avg_sepal(species):\n",
    "    species_list = [a for a in data if a[4] == species] # Limit data to just species in quest\n",
    "    sepal_lengths = [float(i[0]) for i in species_list] # Floatify the lengths\n",
    "    total_sepal = sum(sepal_lengths)\n",
    "    sepal_avg = total_sepal/len(species_list)\n",
    "    print species+\":\", # Printed the species for clarity\n",
    "    return sepal_avg # Return output is a num, can be used for other things\n",
    "\n",
    "print(avg_sepal('setosa'))\n",
    "print(avg_sepal('versicolor'))"
   ]
  },
  {
   "cell_type": "markdown",
   "metadata": {},
   "source": [
    "And in case you wondered what the species of flowers are, they are..."
   ]
  },
  {
   "cell_type": "code",
   "execution_count": 13,
   "metadata": {
    "collapsed": false
   },
   "outputs": [
    {
     "name": "stdout",
     "output_type": "stream",
     "text": [
      "{'setosa': 50, 'versicolor': 50, 'virginica': 50}\n"
     ]
    }
   ],
   "source": [
    "flower_types = {} # Creates a dictionary to count how many obs per species\n",
    "for i in data:\n",
    "    species = i[4] # Makes this easier to work with below\n",
    "    if species in flower_types: # Checks to see if it's in dict already\n",
    "        flower_types[species] += 1 # If it is we tick up the total\n",
    "    else:\n",
    "        flower_types[species] = 1 # If not set it at 1\n",
    "        \n",
    "print(flower_types)"
   ]
  },
  {
   "cell_type": "markdown",
   "metadata": {},
   "source": [
    "-------\n",
    "Below, I tried to do this in a complicated way. The *vision* was to create a dictionary that held all the flowers, then call the dictionary key based on what was typed into species. \n",
    "\n",
    "I wasn't able to debug this, mostly because it seemed easier to just put it into a more straightforward function that just cut down the list."
   ]
  },
  {
   "cell_type": "code",
   "execution_count": 12,
   "metadata": {
    "collapsed": false
   },
   "outputs": [
    {
     "ename": "ZeroDivisionError",
     "evalue": "integer division or modulo by zero",
     "output_type": "error",
     "traceback": [
      "\u001b[0;31m---------------------------------------------------------------------------\u001b[0m",
      "\u001b[0;31mZeroDivisionError\u001b[0m                         Traceback (most recent call last)",
      "\u001b[0;32m<ipython-input-12-1a2eebfe2673>\u001b[0m in \u001b[0;36m<module>\u001b[0;34m()\u001b[0m\n\u001b[1;32m     12\u001b[0m     \u001b[0;32mreturn\u001b[0m \u001b[0mspecies\u001b[0m\u001b[0;34m,\u001b[0m\u001b[0;34m\":\"\u001b[0m\u001b[0;34m,\u001b[0m\u001b[0msepal_avg\u001b[0m\u001b[0;34m\u001b[0m\u001b[0m\n\u001b[1;32m     13\u001b[0m \u001b[0;34m\u001b[0m\u001b[0m\n\u001b[0;32m---> 14\u001b[0;31m \u001b[0mavg_sepal_length\u001b[0m\u001b[0;34m(\u001b[0m\u001b[0;34m'setosa'\u001b[0m\u001b[0;34m)\u001b[0m\u001b[0;34m\u001b[0m\u001b[0m\n\u001b[0m\u001b[1;32m     15\u001b[0m \u001b[0;31m# This gave me an error about division by zero\u001b[0m\u001b[0;34m\u001b[0m\u001b[0;34m\u001b[0m\u001b[0m\n\u001b[1;32m     16\u001b[0m \u001b[0;31m# I think that was from not filling the species in in that loop\u001b[0m\u001b[0;34m\u001b[0m\u001b[0;34m\u001b[0m\u001b[0m\n",
      "\u001b[0;32m<ipython-input-12-1a2eebfe2673>\u001b[0m in \u001b[0;36mavg_sepal_length\u001b[0;34m(species)\u001b[0m\n\u001b[1;32m      8\u001b[0m         \u001b[0msepal_lengths\u001b[0m \u001b[0;34m=\u001b[0m \u001b[0;34m[\u001b[0m\u001b[0mfloat\u001b[0m\u001b[0;34m(\u001b[0m\u001b[0mi\u001b[0m\u001b[0;34m[\u001b[0m\u001b[0;36m0\u001b[0m\u001b[0;34m]\u001b[0m\u001b[0;34m)\u001b[0m \u001b[0;32mfor\u001b[0m \u001b[0mi\u001b[0m \u001b[0;32min\u001b[0m \u001b[0mdata\u001b[0m \u001b[0;32mif\u001b[0m \u001b[0mi\u001b[0m\u001b[0;34m[\u001b[0m\u001b[0;36m4\u001b[0m\u001b[0;34m]\u001b[0m\u001b[0;34m==\u001b[0m\u001b[0mspecies\u001b[0m\u001b[0;34m]\u001b[0m\u001b[0;34m\u001b[0m\u001b[0m\n\u001b[1;32m      9\u001b[0m         \u001b[0msepal_total\u001b[0m \u001b[0;34m=\u001b[0m \u001b[0msum\u001b[0m\u001b[0;34m(\u001b[0m\u001b[0msepal_lengths\u001b[0m\u001b[0;34m)\u001b[0m\u001b[0;34m\u001b[0m\u001b[0m\n\u001b[0;32m---> 10\u001b[0;31m         \u001b[0msepal_avg\u001b[0m \u001b[0;34m=\u001b[0m \u001b[0;34m(\u001b[0m\u001b[0msepal_total\u001b[0m\u001b[0;34m)\u001b[0m\u001b[0;34m/\u001b[0m\u001b[0;34m(\u001b[0m\u001b[0mlen\u001b[0m\u001b[0;34m(\u001b[0m\u001b[0msepal_lengths\u001b[0m\u001b[0;34m)\u001b[0m\u001b[0;34m)\u001b[0m\u001b[0;34m\u001b[0m\u001b[0m\n\u001b[0m\u001b[1;32m     11\u001b[0m         \u001b[0msepal_length\u001b[0m\u001b[0;34m[\u001b[0m\u001b[0mspecies\u001b[0m\u001b[0;34m]\u001b[0m \u001b[0;34m=\u001b[0m \u001b[0msepal_avg\u001b[0m\u001b[0;34m\u001b[0m\u001b[0m\n\u001b[1;32m     12\u001b[0m     \u001b[0;32mreturn\u001b[0m \u001b[0mspecies\u001b[0m\u001b[0;34m,\u001b[0m\u001b[0;34m\":\"\u001b[0m\u001b[0;34m,\u001b[0m\u001b[0msepal_avg\u001b[0m\u001b[0;34m\u001b[0m\u001b[0m\n",
      "\u001b[0;31mZeroDivisionError\u001b[0m: integer division or modulo by zero"
     ]
    }
   ],
   "source": [
    "def avg_sepal_length(species):\n",
    "    sepal_length = {}\n",
    "    flowers = [] # This will hold types of flowers\n",
    "    for a in data:\n",
    "        if a[4] not in flowers: # Remember species is at index 4\n",
    "            flowers += a # Adding to the list of flower types\n",
    "    for species in flowers:\n",
    "        sepal_lengths = [float(i[0]) for i in data if i[4]==species]\n",
    "        sepal_total = sum(sepal_lengths)\n",
    "        sepal_avg = (sepal_total)/(len(sepal_lengths))\n",
    "        sepal_length[species] = sepal_avg\n",
    "    return species,\":\",sepal_avg\n",
    "\n",
    "avg_sepal_length('setosa')\n",
    "# This gave me an error about division by zero\n",
    "# I think that was from not filling the species in in that loop\n",
    "# Dictionary was probably too ambitious\n",
    "# I'm going to simplify"
   ]
  }
 ],
 "metadata": {
  "kernelspec": {
   "display_name": "Python 2",
   "language": "python",
   "name": "python2"
  },
  "language_info": {
   "codemirror_mode": {
    "name": "ipython",
    "version": 2
   },
   "file_extension": ".py",
   "mimetype": "text/x-python",
   "name": "python",
   "nbconvert_exporter": "python",
   "pygments_lexer": "ipython2",
   "version": "2.7.13"
  }
 },
 "nbformat": 4,
 "nbformat_minor": 2
}
